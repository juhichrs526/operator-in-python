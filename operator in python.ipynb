{
 "cells": [
  {
   "cell_type": "code",
   "execution_count": 2,
   "id": "0b4d85d2",
   "metadata": {},
   "outputs": [
    {
     "name": "stdout",
     "output_type": "stream",
     "text": [
      "3+8 is 11\n"
     ]
    }
   ],
   "source": [
    "#Arithmetic operator\n",
    "print(\"3+8 is\",3+8)"
   ]
  },
  {
   "cell_type": "code",
   "execution_count": 3,
   "id": "003502f0",
   "metadata": {},
   "outputs": [
    {
     "name": "stdout",
     "output_type": "stream",
     "text": [
      "3-8 is -5\n"
     ]
    }
   ],
   "source": [
    "print(\"3-8 is\",3-8)"
   ]
  },
  {
   "cell_type": "code",
   "execution_count": 4,
   "id": "1b7a5bb5",
   "metadata": {},
   "outputs": [
    {
     "name": "stdout",
     "output_type": "stream",
     "text": [
      "3*8 is 24\n"
     ]
    }
   ],
   "source": [
    "print(\"3*8 is\",3*8)"
   ]
  },
  {
   "cell_type": "code",
   "execution_count": 5,
   "id": "ce063345",
   "metadata": {},
   "outputs": [
    {
     "name": "stdout",
     "output_type": "stream",
     "text": [
      "3/8 is 0.375\n"
     ]
    }
   ],
   "source": [
    "print(\"3/8 is\",3/8)"
   ]
  },
  {
   "cell_type": "code",
   "execution_count": 6,
   "id": "3f13cb69",
   "metadata": {},
   "outputs": [
    {
     "name": "stdout",
     "output_type": "stream",
     "text": [
      "3//8 is 0\n"
     ]
    }
   ],
   "source": [
    "print(\"3//8 is\",3//8)"
   ]
  },
  {
   "cell_type": "code",
   "execution_count": 7,
   "id": "0f2afb67",
   "metadata": {},
   "outputs": [
    {
     "name": "stdout",
     "output_type": "stream",
     "text": [
      "3**8 is 6561\n"
     ]
    }
   ],
   "source": [
    "print(\"3**8 is\",3**8)"
   ]
  },
  {
   "cell_type": "code",
   "execution_count": 8,
   "id": "4027c1b7",
   "metadata": {},
   "outputs": [
    {
     "name": "stdout",
     "output_type": "stream",
     "text": [
      "3%8 is 3\n"
     ]
    }
   ],
   "source": [
    "print(\"3%8 is\",3%8)"
   ]
  },
  {
   "cell_type": "code",
   "execution_count": 9,
   "id": "a8fec6c0",
   "metadata": {},
   "outputs": [
    {
     "name": "stdout",
     "output_type": "stream",
     "text": [
      "5\n"
     ]
    }
   ],
   "source": [
    "#Assignment operator\n",
    "x=5\n",
    "print(x)"
   ]
  },
  {
   "cell_type": "code",
   "execution_count": 10,
   "id": "80e34dba",
   "metadata": {},
   "outputs": [
    {
     "name": "stdout",
     "output_type": "stream",
     "text": [
      "14\n"
     ]
    }
   ],
   "source": [
    "x+=9\n",
    "print(x)"
   ]
  },
  {
   "cell_type": "code",
   "execution_count": 13,
   "id": "9e063c29",
   "metadata": {},
   "outputs": [
    {
     "name": "stdout",
     "output_type": "stream",
     "text": [
      "-2\n"
     ]
    }
   ],
   "source": [
    "x-=8\n",
    "print(x)"
   ]
  },
  {
   "cell_type": "code",
   "execution_count": 14,
   "id": "bac6e2da",
   "metadata": {},
   "outputs": [
    {
     "name": "stdout",
     "output_type": "stream",
     "text": [
      "6\n"
     ]
    }
   ],
   "source": [
    "x%=8\n",
    "print(x)"
   ]
  },
  {
   "cell_type": "code",
   "execution_count": 16,
   "id": "f0710cad",
   "metadata": {},
   "outputs": [
    {
     "name": "stdout",
     "output_type": "stream",
     "text": [
      "False\n"
     ]
    }
   ],
   "source": [
    "#comparison operator\n",
    "i=9\n",
    "print(i==5)"
   ]
  },
  {
   "cell_type": "code",
   "execution_count": 17,
   "id": "c95dea0a",
   "metadata": {},
   "outputs": [
    {
     "name": "stdout",
     "output_type": "stream",
     "text": [
      "True\n"
     ]
    }
   ],
   "source": [
    "i=9\n",
    "print(i!=5)"
   ]
  },
  {
   "cell_type": "code",
   "execution_count": 18,
   "id": "b0b6f77b",
   "metadata": {},
   "outputs": [
    {
     "name": "stdout",
     "output_type": "stream",
     "text": [
      "False\n"
     ]
    }
   ],
   "source": [
    "i=9\n",
    "print(i<=5)"
   ]
  },
  {
   "cell_type": "code",
   "execution_count": 19,
   "id": "cfb0d5dd",
   "metadata": {},
   "outputs": [
    {
     "name": "stdout",
     "output_type": "stream",
     "text": [
      "True\n"
     ]
    }
   ],
   "source": [
    "i=9\n",
    "print(i>=5)"
   ]
  },
  {
   "cell_type": "code",
   "execution_count": 20,
   "id": "d2041a24",
   "metadata": {},
   "outputs": [
    {
     "name": "stdout",
     "output_type": "stream",
     "text": [
      "False\n"
     ]
    }
   ],
   "source": [
    "#logical operator\n",
    "a=True\n",
    "b=False\n",
    "print(a and b)"
   ]
  },
  {
   "cell_type": "code",
   "execution_count": 21,
   "id": "c43c9f08",
   "metadata": {},
   "outputs": [
    {
     "name": "stdout",
     "output_type": "stream",
     "text": [
      "True\n"
     ]
    }
   ],
   "source": [
    "a=True\n",
    "b=True\n",
    "print(a and b)"
   ]
  },
  {
   "cell_type": "code",
   "execution_count": 22,
   "id": "23ae2d6f",
   "metadata": {},
   "outputs": [
    {
     "name": "stdout",
     "output_type": "stream",
     "text": [
      "False\n"
     ]
    }
   ],
   "source": [
    "a=False\n",
    "b=False\n",
    "print(a and b)"
   ]
  },
  {
   "cell_type": "code",
   "execution_count": 23,
   "id": "c90228e4",
   "metadata": {},
   "outputs": [
    {
     "name": "stdout",
     "output_type": "stream",
     "text": [
      "False\n"
     ]
    }
   ],
   "source": [
    "a=False\n",
    "b=True\n",
    "print(a and b)"
   ]
  },
  {
   "cell_type": "code",
   "execution_count": 24,
   "id": "1dac62cc",
   "metadata": {},
   "outputs": [
    {
     "name": "stdout",
     "output_type": "stream",
     "text": [
      "True\n"
     ]
    }
   ],
   "source": [
    "a=True\n",
    "b=False\n",
    "print(a or b)"
   ]
  },
  {
   "cell_type": "code",
   "execution_count": 25,
   "id": "7fc3fcb4",
   "metadata": {},
   "outputs": [
    {
     "name": "stdout",
     "output_type": "stream",
     "text": [
      "False\n"
     ]
    }
   ],
   "source": [
    "#identity operator\n",
    "a=True\n",
    "b=False\n",
    "print(a is b)"
   ]
  },
  {
   "cell_type": "code",
   "execution_count": 27,
   "id": "60487d21",
   "metadata": {},
   "outputs": [
    {
     "name": "stdout",
     "output_type": "stream",
     "text": [
      "True\n"
     ]
    }
   ],
   "source": [
    "a=True\n",
    "b=False\n",
    "print(a is not b)"
   ]
  },
  {
   "cell_type": "code",
   "execution_count": 28,
   "id": "84e7d864",
   "metadata": {},
   "outputs": [
    {
     "name": "stdout",
     "output_type": "stream",
     "text": [
      "True\n"
     ]
    }
   ],
   "source": [
    "#Membership operator\n",
    "list=[12,14,17,15,18,19]\n",
    "print(12 in list"
   ]
  },
  {
   "cell_type": "code",
   "execution_count": 30,
   "id": "20aafcfa",
   "metadata": {},
   "outputs": [
    {
     "name": "stdout",
     "output_type": "stream",
     "text": [
      "False\n"
     ]
    }
   ],
   "source": [
    "list=[12,14,17,15,18,19]\n",
    "print(12 not in list)"
   ]
  },
  {
   "cell_type": "code",
   "execution_count": 31,
   "id": "19254347",
   "metadata": {},
   "outputs": [
    {
     "name": "stdout",
     "output_type": "stream",
     "text": [
      "0\n"
     ]
    }
   ],
   "source": [
    "#bitwise operator\n",
    "#0--00\n",
    "#1--01\n",
    "#2--10\n",
    "#3--11\n",
    "print(0 & 1)"
   ]
  },
  {
   "cell_type": "code",
   "execution_count": 32,
   "id": "32db4a76",
   "metadata": {},
   "outputs": [
    {
     "name": "stdout",
     "output_type": "stream",
     "text": [
      "1\n"
     ]
    }
   ],
   "source": [
    "print(0 | 1)"
   ]
  },
  {
   "cell_type": "code",
   "execution_count": 33,
   "id": "943bfca9",
   "metadata": {},
   "outputs": [
    {
     "name": "stdout",
     "output_type": "stream",
     "text": [
      "3\n"
     ]
    }
   ],
   "source": [
    "print(0 | 3)"
   ]
  },
  {
   "cell_type": "code",
   "execution_count": null,
   "id": "991b57e9",
   "metadata": {},
   "outputs": [],
   "source": []
  }
 ],
 "metadata": {
  "kernelspec": {
   "display_name": "Python 3",
   "language": "python",
   "name": "python3"
  },
  "language_info": {
   "codemirror_mode": {
    "name": "ipython",
    "version": 3
   },
   "file_extension": ".py",
   "mimetype": "text/x-python",
   "name": "python",
   "nbconvert_exporter": "python",
   "pygments_lexer": "ipython3",
   "version": "3.8.8"
  }
 },
 "nbformat": 4,
 "nbformat_minor": 5
}
